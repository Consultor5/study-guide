{
 "cells": [
  {
   "cell_type": "code",
   "execution_count": 1,
   "id": "55c43f0d-4429-44db-8105-2de01a113a2e",
   "metadata": {},
   "outputs": [],
   "source": [
    "from functools import reduce, lru_cache\n",
    "from itertools import combinations, permutations, product, accumulate, groupby\n",
    "from collections import defaultdict, Counter\n",
    "from operator import add, mul, sub, truediv, pow, lt, eq, ge, itemgetter, attrgetter"
   ]
  },
  {
   "cell_type": "code",
   "execution_count": 2,
   "id": "a4a41f21-a934-4884-a2e0-b42a19802c30",
   "metadata": {},
   "outputs": [
    {
     "data": {
      "text/plain": [
       "5"
      ]
     },
     "execution_count": 2,
     "metadata": {},
     "output_type": "execute_result"
    }
   ],
   "source": [
    "# Generator example\n",
    "def countdown(n):\n",
    "    while n > 0:\n",
    "        yield n\n",
    "        n -= 1\n",
    "list(countdown(5))\n",
    "\n",
    "# Add operator example\n",
    "add(2, 3)"
   ]
  },
  {
   "cell_type": "code",
   "execution_count": 3,
   "id": "cd3eebfc-d000-4816-a513-6118bd1e25c4",
   "metadata": {},
   "outputs": [
    {
     "data": {
      "text/plain": [
       "20"
      ]
     },
     "execution_count": 3,
     "metadata": {},
     "output_type": "execute_result"
    }
   ],
   "source": [
    "# Mul operator example\n",
    "mul(4, 5)"
   ]
  },
  {
   "cell_type": "code",
   "execution_count": 4,
   "id": "3841399e-d019-4c99-8933-bb8fa60bd3ab",
   "metadata": {},
   "outputs": [
    {
     "data": {
      "text/plain": [
       "7"
      ]
     },
     "execution_count": 4,
     "metadata": {},
     "output_type": "execute_result"
    }
   ],
   "source": [
    "# Sub operator example\n",
    "sub(10, 3)"
   ]
  },
  {
   "cell_type": "code",
   "execution_count": 5,
   "id": "4403ba2f-c93f-436f-81f6-de2341d192ca",
   "metadata": {},
   "outputs": [
    {
     "data": {
      "text/plain": [
       "4.5"
      ]
     },
     "execution_count": 5,
     "metadata": {},
     "output_type": "execute_result"
    }
   ],
   "source": [
    "# Truediv operator example\n",
    "truediv(9, 2)"
   ]
  },
  {
   "cell_type": "code",
   "execution_count": 6,
   "id": "c9c26be2-2f07-45b1-b037-dd0c89e161d8",
   "metadata": {},
   "outputs": [
    {
     "data": {
      "text/plain": [
       "8"
      ]
     },
     "execution_count": 6,
     "metadata": {},
     "output_type": "execute_result"
    }
   ],
   "source": [
    "# Pow operator example\n",
    "pow(2, 3)"
   ]
  },
  {
   "cell_type": "code",
   "execution_count": 7,
   "id": "cb285bec-b22a-4174-bcd3-681be50ea33d",
   "metadata": {},
   "outputs": [
    {
     "data": {
      "text/plain": [
       "True"
      ]
     },
     "execution_count": 7,
     "metadata": {},
     "output_type": "execute_result"
    }
   ],
   "source": [
    "# Lt operator example\n",
    "lt(2, 3)"
   ]
  },
  {
   "cell_type": "code",
   "execution_count": 8,
   "id": "065003c1-2d1d-424f-87f4-1010a6559471",
   "metadata": {},
   "outputs": [
    {
     "data": {
      "text/plain": [
       "True"
      ]
     },
     "execution_count": 8,
     "metadata": {},
     "output_type": "execute_result"
    }
   ],
   "source": [
    "# Eq operator example\n",
    "eq(4, 4)"
   ]
  },
  {
   "cell_type": "code",
   "execution_count": 9,
   "id": "48b56181-c3f5-4f96-905e-ff064c22bd69",
   "metadata": {},
   "outputs": [
    {
     "data": {
      "text/plain": [
       "True"
      ]
     },
     "execution_count": 9,
     "metadata": {},
     "output_type": "execute_result"
    }
   ],
   "source": [
    "# Ge operator example\n",
    "ge(5, 2)"
   ]
  },
  {
   "cell_type": "code",
   "execution_count": 10,
   "id": "a4c3292d-b468-41ca-8685-6a3e01fbba0d",
   "metadata": {},
   "outputs": [
    {
     "data": {
      "text/plain": [
       "[{'name': 'Bob', 'age': 25},\n",
       " {'name': 'Alice', 'age': 30},\n",
       " {'name': 'Eve', 'age': 35}]"
      ]
     },
     "execution_count": 10,
     "metadata": {},
     "output_type": "execute_result"
    }
   ],
   "source": [
    "data = [{'name': 'Alice', 'age': 30},\n",
    "        {'name': 'Bob', 'age': 25},\n",
    "        {'name': 'Eve', 'age': 35}]\n",
    "sorted_by_age = sorted(data, key=itemgetter('age'))\n",
    "sorted_by_age"
   ]
  },
  {
   "cell_type": "code",
   "execution_count": 11,
   "id": "7feca918-26cb-4e78-9945-be2fa2908c9a",
   "metadata": {},
   "outputs": [
    {
     "data": {
      "text/plain": [
       "[('Bob', 80), ('Eve', 90), ('Alice', 95)]"
      ]
     },
     "execution_count": 11,
     "metadata": {},
     "output_type": "execute_result"
    }
   ],
   "source": [
    "class Person:\n",
    "    def __init__(self, name, score):\n",
    "        self.name = name\n",
    "        self.score = score\n",
    "\n",
    "people = [Person('Alice', 95), Person('Bob', 80), Person('Eve', 90)]\n",
    "sorted_people = sorted(people, key=attrgetter('score'))\n",
    "[(p.name, p.score) for p in sorted_people]"
   ]
  },
  {
   "cell_type": "code",
   "execution_count": 12,
   "id": "3a4d0247-bd99-407d-8a6e-af7f15c9d3b3",
   "metadata": {},
   "outputs": [
    {
     "data": {
      "text/plain": [
       "21"
      ]
     },
     "execution_count": 12,
     "metadata": {},
     "output_type": "execute_result"
    }
   ],
   "source": [
    "# Reduce example\n",
    "nums = [1, 2, 3, 4, 5, 6]\n",
    "total = reduce(lambda x, y: x + y, nums)\n",
    "total"
   ]
  },
  {
   "cell_type": "code",
   "execution_count": 13,
   "id": "e31ed6fa-f2e1-467a-8621-c67132cec054",
   "metadata": {},
   "outputs": [
    {
     "data": {
      "text/plain": [
       "[1, 4, 9, 16]"
      ]
     },
     "execution_count": 13,
     "metadata": {},
     "output_type": "execute_result"
    }
   ],
   "source": [
    "# Map example\n",
    "squares = map(lambda x: x**2, [1, 2, 3, 4])\n",
    "list(squares)"
   ]
  },
  {
   "cell_type": "code",
   "execution_count": 14,
   "id": "66f06662-151b-4624-bba1-9a6209a16c48",
   "metadata": {},
   "outputs": [
    {
     "data": {
      "text/plain": [
       "[0, 2, 4, 6, 8]"
      ]
     },
     "execution_count": 14,
     "metadata": {},
     "output_type": "execute_result"
    }
   ],
   "source": [
    "evens = filter(lambda x: x % 2 == 0, range(10))\n",
    "list(evens)"
   ]
  },
  {
   "cell_type": "code",
   "execution_count": 15,
   "id": "caaba4de-13dd-49e0-9c42-7f9f4ef4dd71",
   "metadata": {},
   "outputs": [
    {
     "data": {
      "text/plain": [
       "832040"
      ]
     },
     "execution_count": 15,
     "metadata": {},
     "output_type": "execute_result"
    }
   ],
   "source": [
    "# LRU Cache example\n",
    "@lru_cache(maxsize=None)\n",
    "def fib(n):\n",
    "    if n < 2: return n\n",
    "    return fib(n-1) + fib(n-2)\n",
    "fib(30)"
   ]
  },
  {
   "cell_type": "code",
   "execution_count": 16,
   "id": "f580b518-d2d2-4797-8845-a3f6d6faf0ab",
   "metadata": {},
   "outputs": [
    {
     "data": {
      "text/plain": [
       "[(1, 2), (1, 3), (2, 3)]"
      ]
     },
     "execution_count": 16,
     "metadata": {},
     "output_type": "execute_result"
    }
   ],
   "source": [
    "# Combinations iterator example\n",
    "comb_iter = combinations([1, 2, 3], 2)\n",
    "list(comb_iter)"
   ]
  },
  {
   "cell_type": "code",
   "execution_count": 17,
   "id": "1f5e5cc2-7d60-481a-868d-44e4b31e1d05",
   "metadata": {},
   "outputs": [
    {
     "data": {
      "text/plain": [
       "[(1, 2), (2, 1)]"
      ]
     },
     "execution_count": 17,
     "metadata": {},
     "output_type": "execute_result"
    }
   ],
   "source": [
    "# Permutations iterator example\n",
    "perm_iter = permutations([1, 2], 2)\n",
    "list(perm_iter)"
   ]
  },
  {
   "cell_type": "code",
   "execution_count": 18,
   "id": "a1c91a05-961e-45d8-970a-7a2f00a2e881",
   "metadata": {},
   "outputs": [
    {
     "data": {
      "text/plain": [
       "[(1, 1), (1, 2), (2, 1), (2, 2)]"
      ]
     },
     "execution_count": 18,
     "metadata": {},
     "output_type": "execute_result"
    }
   ],
   "source": [
    "# Prouct iterator example\n",
    "prod_iter = product([1, 2], repeat=2)\n",
    "list(prod_iter)"
   ]
  },
  {
   "cell_type": "code",
   "execution_count": 19,
   "id": "4d9e604d-f540-4d57-8769-8a496cfe7c8c",
   "metadata": {},
   "outputs": [
    {
     "data": {
      "text/plain": [
       "[1, 3, 6, 10]"
      ]
     },
     "execution_count": 19,
     "metadata": {},
     "output_type": "execute_result"
    }
   ],
   "source": [
    "# Accumulate iterator example\n",
    "accu_iter = accumulate([1, 2, 3, 4])\n",
    "list(accu_iter)"
   ]
  },
  {
   "cell_type": "code",
   "execution_count": 20,
   "id": "abefea63-5954-4805-b28f-923206bd1436",
   "metadata": {},
   "outputs": [
    {
     "data": {
      "text/plain": [
       "[(1, 'a'), (2, 'b'), (3, 'c')]"
      ]
     },
     "execution_count": 20,
     "metadata": {},
     "output_type": "execute_result"
    }
   ],
   "source": [
    "# Zip iterator example\n",
    "a = [1, 2, 3]\n",
    "b = ['a', 'b', 'c']\n",
    "zip_iter = zip(a, b)\n",
    "list(zip_iter)"
   ]
  },
  {
   "cell_type": "code",
   "execution_count": 21,
   "id": "790a8885-dd47-4c7e-a42a-2f84759a4c6c",
   "metadata": {},
   "outputs": [
    {
     "data": {
      "text/plain": [
       "[(2, 1), (4, 2), (1, 3)]"
      ]
     },
     "execution_count": 21,
     "metadata": {},
     "output_type": "execute_result"
    }
   ],
   "source": [
    "# Sorted example\n",
    "pairs = [(1, 3), (2, 1), (4, 2)]\n",
    "sorted_pairs = sorted(pairs, key=lambda x:x[1])\n",
    "sorted_pairs"
   ]
  },
  {
   "cell_type": "code",
   "execution_count": 22,
   "id": "3b4a3af4-328c-4e9e-ba7a-140a40483f8f",
   "metadata": {},
   "outputs": [
    {
     "data": {
      "text/plain": [
       "([0, 1, 4, 9, 16], [0, 2, 4, 6, 8])"
      ]
     },
     "execution_count": 22,
     "metadata": {},
     "output_type": "execute_result"
    }
   ],
   "source": [
    "# List comprehensions example\n",
    "squares = [x*x for x in range(5)]\n",
    "evens = [x for x in range(10) if x % 2 == 0]\n",
    "squares, evens"
   ]
  },
  {
   "cell_type": "markdown",
   "id": "5149a877-a0d6-4b4d-a1ac-ccfebe24cf73",
   "metadata": {},
   "source": [
    "# 1. Two Sum - 🟢 Easy"
   ]
  },
  {
   "cell_type": "code",
   "execution_count": 23,
   "id": "9cb30942-e971-4bde-a35f-026c4482c74c",
   "metadata": {},
   "outputs": [],
   "source": [
    "def two_sum(nums, target):\n",
    "    lookup = {}\n",
    "    for key, val in enumerate(nums):\n",
    "        if target - val in lookup:\n",
    "            return [lookup[target - val], key]\n",
    "        lookup[val] = key\n",
    "assert two_sum([2, 7, 11, 15], 9) == [0, 1]\n",
    "assert two_sum([3, 2, 4], 6) == [1, 2]"
   ]
  },
  {
   "cell_type": "markdown",
   "id": "f3b8c387-d405-4d0b-898e-9885e1659726",
   "metadata": {},
   "source": [
    "# 2. Group Anagrams - 🟡 Medium "
   ]
  },
  {
   "cell_type": "code",
   "execution_count": 24,
   "id": "527e88a4-c896-4562-9c16-c4210b3769ab",
   "metadata": {},
   "outputs": [],
   "source": [
    "def group_anagrams(strs):\n",
    "    groups = defaultdict(list)\n",
    "    for word in strs:\n",
    "        key = tuple(sorted(word))\n",
    "        groups[key].append(word)\n",
    "    return list(groups.values())\n",
    "\n",
    "result = group_anagrams([\"eat\", \"tea\", \"tan\", \"ate\", \"nat\", \"bat\"])\n",
    "assert sorted([sorted(group) for group in result]) == sorted([[\"bat\"], [\"nat\", \"tan\"], [\"ate\", \"eat\", \"tea\"]])"
   ]
  },
  {
   "cell_type": "markdown",
   "id": "5b08a769-4796-4439-98f5-91524f0365fc",
   "metadata": {},
   "source": [
    "# 3. Product of Array Except Self - 🟡 Medium"
   ]
  },
  {
   "cell_type": "code",
   "execution_count": 25,
   "id": "74c8585b-cb4c-4c5e-86a0-2d2fc02b8988",
   "metadata": {},
   "outputs": [],
   "source": [
    "def product_except_self(nums):\n",
    "    left = list(accumulate(nums, mul))\n",
    "    right = list(accumulate(nums[::-1], mul))[::-1]\n",
    "\n",
    "    result = []\n",
    "    for i in range(len(nums)):\n",
    "        l = left[i - 1] if i > 0 else 1\n",
    "        r = right[i + 1] if i < len(nums) - 1 else 1\n",
    "        result.append(l * r)\n",
    "    return result\n",
    "\n",
    "assert product_except_self([1, 2, 3, 4]) == [24, 12, 8, 6]"
   ]
  },
  {
   "cell_type": "markdown",
   "id": "ecee7adb-0e63-42e4-8a6e-5a855d121773",
   "metadata": {},
   "source": [
    "# 4. Find All Duplicates in an Array - 🟡 Medium"
   ]
  },
  {
   "cell_type": "code",
   "execution_count": 26,
   "id": "5495061f-0d74-4571-9811-c885ef2d2372",
   "metadata": {},
   "outputs": [],
   "source": [
    "def find_duplicates(nums):\n",
    "    count = Counter(nums)\n",
    "    return [num for num, freq in count.items() if freq > 1]\n",
    "\n",
    "assert sorted(find_duplicates([4, 3, 2, 7, 8, 2, 3, 1])) == [2, 3]\n",
    "assert find_duplicates([1, 1, 2]) == [1]"
   ]
  },
  {
   "cell_type": "markdown",
   "id": "95dc6aad-14b9-4e49-9805-8369c9a96e54",
   "metadata": {},
   "source": [
    "# 5. Top K Frequent Elements - 🟡 Medium"
   ]
  },
  {
   "cell_type": "code",
   "execution_count": 27,
   "id": "2a0081f3-1836-44ad-ba67-907b9b5d5795",
   "metadata": {},
   "outputs": [],
   "source": [
    "def top_k_frequent(nums, k):\n",
    "    count = Counter(nums)\n",
    "    return [item for item, _ in count.most_common(k)]\n",
    "\n",
    "assert sorted(top_k_frequent([1, 1, 1, 2, 2, 3], 2)) == [1, 2]"
   ]
  },
  {
   "cell_type": "code",
   "execution_count": null,
   "id": "37eb84a5-447f-4032-ab53-db39e47e0bdf",
   "metadata": {},
   "outputs": [],
   "source": []
  }
 ],
 "metadata": {
  "kernelspec": {
   "display_name": "Python 3 (ipykernel)",
   "language": "python",
   "name": "python3"
  },
  "language_info": {
   "codemirror_mode": {
    "name": "ipython",
    "version": 3
   },
   "file_extension": ".py",
   "mimetype": "text/x-python",
   "name": "python",
   "nbconvert_exporter": "python",
   "pygments_lexer": "ipython3",
   "version": "3.10.11"
  }
 },
 "nbformat": 4,
 "nbformat_minor": 5
}
